{
 "cells": [
  {
   "cell_type": "code",
   "execution_count": null,
   "metadata": {},
   "outputs": [],
   "source": [
    "from bs4 import BeautifulSoup\n",
    "import requests\n",
    "import pandas as pd\n",
    "import locale \n",
    "\n",
    "import mimetypes\n",
    "import pymongo\n",
    "import time\n",
    "from selenium import webdriver\n",
    "from selenium import webdriver\n",
    "from selenium.common.exceptions import TimeoutException\n",
    "from selenium.webdriver.support.ui import WebDriverWait\n",
    "from selenium.common.exceptions import NoSuchElementException\n",
    "\n",
    "from sqlalchemy import create_engine, inspect\n",
    "from sqlalchemy import Column, Integer, String, Float\n",
    "\n"
   ]
  },
  {
   "cell_type": "code",
   "execution_count": null,
   "metadata": {},
   "outputs": [],
   "source": [
    "conn = 'mongodb://localhost:27017'\n",
    "client = pymongo.MongoClient(conn)\n",
    "db = client[\"MarsDB\"]"
   ]
  },
  {
   "cell_type": "code",
   "execution_count": null,
   "metadata": {},
   "outputs": [],
   "source": [
    "'Mars_Articles' in db.list_collection_names()"
   ]
  },
  {
   "cell_type": "code",
   "execution_count": null,
   "metadata": {},
   "outputs": [],
   "source": [
    "collection1 = db.Mars_Articles"
   ]
  },
  {
   "cell_type": "code",
   "execution_count": null,
   "metadata": {},
   "outputs": [],
   "source": [
    "collection1.estimated_document_count() != 0"
   ]
  },
  {
   "cell_type": "code",
   "execution_count": null,
   "metadata": {},
   "outputs": [],
   "source": [
    "\n",
    "## URL Links\n",
    "chrome_path =  'C:/Users/zigot/chrome/chromedriver.exe'\n",
    "url0 = \"https://mars.nasa.gov/news/\"\n",
    "twitter_url ='https://twitter.com/marswxreport?lang=en'"
   ]
  },
  {
   "cell_type": "code",
   "execution_count": null,
   "metadata": {},
   "outputs": [],
   "source": [
    "##Mongo Connection\n",
    "\n",
    "if dbName in client.list_database_names():\n",
    "    print(\"Mars DB Exists\")\n",
    "        #client.drop_database(dbName)\n",
    "    db = client[dbName]\n",
    "    print(\"Mars DB Connected\")\n",
    "else:\n",
    "    print(\"Mars DB not existing -> New Created\")\n",
    "    db = client[dbName]"
   ]
  },
  {
   "cell_type": "code",
   "execution_count": null,
   "metadata": {},
   "outputs": [],
   "source": [
    "conn = 'mongodb://localhost:27017'\n",
    "client = pymongo.MongoClient(conn)\n",
    "db = client[\"MarsDB\"]"
   ]
  },
  {
   "cell_type": "code",
   "execution_count": null,
   "metadata": {},
   "outputs": [],
   "source": [
    "client.list_database_names()"
   ]
  },
  {
   "cell_type": "code",
   "execution_count": null,
   "metadata": {},
   "outputs": [],
   "source": [
    "db.create_collection(\"Mars_Articles\")"
   ]
  },
  {
   "cell_type": "code",
   "execution_count": null,
   "metadata": {
    "scrolled": true
   },
   "outputs": [],
   "source": [
    "\n",
    "driver = webdriver.Chrome()\n",
    "driver.set_page_load_timeout(7)\n",
    "driver.get(\"https://mars.nasa.gov/news/\")"
   ]
  },
  {
   "cell_type": "code",
   "execution_count": null,
   "metadata": {},
   "outputs": [],
   "source": [
    "while True:\n",
    "      \n",
    "    try: \n",
    "        driver.find_element_by_xpath(\"\"\"//*[contains(@class,'list_footer more_button')]\"\"\").click()\n",
    "    except NoSuchElementException:\n",
    "        break\n",
    "    time.sleep(5)\n",
    "    soup = BeautifulSoup(driver.page_source, 'html.parser')\n"
   ]
  },
  {
   "cell_type": "code",
   "execution_count": null,
   "metadata": {},
   "outputs": [],
   "source": [
    "teasers = driver.find_elements_by_class_name(\"article_teaser_body\")\n",
    "titles  = driver.find_elements_by_class_name(\"content_title\")\n",
    "dates = driver.find_elements_by_class_name(\"list_date\")\n",
    "\n"
   ]
  },
  {
   "cell_type": "code",
   "execution_count": null,
   "metadata": {},
   "outputs": [],
   "source": [
    "## Generating List of Dictionaries - Mars Articles\n",
    "Mars_Articles_LIST = []\n",
    "for i in range(len(soup.find_all('div',class_='list_date'))):\n",
    "    dict = {\n",
    "        'date':dates[i].text,\n",
    "        'title': titles[i].text,\n",
    "        'article':teasers[i].text           \n",
    "    }\n",
    "    Mars_Articles_LIST.append(dict)\n"
   ]
  },
  {
   "cell_type": "code",
   "execution_count": null,
   "metadata": {},
   "outputs": [],
   "source": [
    "if collection1.estimated_document_count() == 0:\n",
    "    collection1.insert_many(Mars_Articles_LIST)"
   ]
  },
  {
   "cell_type": "code",
   "execution_count": null,
   "metadata": {},
   "outputs": [],
   "source": [
    "##OBtaining the Featured Image\n",
    "driver1 = webdriver.Chrome()\n",
    "driver1.set_page_load_timeout(7)\n",
    "driver1.get(\"https://www.jpl.nasa.gov/spaceimages/?search=&category=Mars\")"
   ]
  },
  {
   "cell_type": "code",
   "execution_count": null,
   "metadata": {},
   "outputs": [],
   "source": [
    "driver1.find_element_by_xpath(\"\"\"//*[contains(@id,'full_image')]\"\"\").click()"
   ]
  },
  {
   "cell_type": "code",
   "execution_count": null,
   "metadata": {},
   "outputs": [],
   "source": [
    "#//*[@id=\"fancybox-lock\"]/div/div[1]/img\n",
    "#find_image = driver1.find_element_by_xpath(\"\"\"//*[contains(@class,'fancybox-image')]\"\"\")\n",
    "find_image = driver1.find_element_by_xpath(\"\"\"//*[@id=\"fancybox-lock\"]/div/div[1]/img\"\"\")"
   ]
  },
  {
   "cell_type": "code",
   "execution_count": null,
   "metadata": {},
   "outputs": [],
   "source": [
    "featured_image = find_image.get_attribute('src')\n",
    "dict = {\"Image Of The Day\":featured_image}"
   ]
  },
  {
   "cell_type": "code",
   "execution_count": null,
   "metadata": {},
   "outputs": [],
   "source": [
    "Mars_img_LIST = [dict]"
   ]
  },
  {
   "cell_type": "code",
   "execution_count": null,
   "metadata": {},
   "outputs": [],
   "source": [
    "print(\"Image of the day :\",featured_image)"
   ]
  },
  {
   "cell_type": "code",
   "execution_count": null,
   "metadata": {},
   "outputs": [],
   "source": [
    "if 'Mars_Image' in db.list_collection_names():\n",
    "    collection_img = db.Mars_Image\n",
    "else:\n",
    "    collection_img = db[\"Mars_Image\"]\n",
    "\n",
    "if collection_img.estimated_document_count() == 0:\n",
    "    print(Mars_img_LIST)\n",
    "    #collection_img.insert_many(Mars_img_LIST)"
   ]
  },
  {
   "cell_type": "code",
   "execution_count": null,
   "metadata": {},
   "outputs": [],
   "source": [
    "print(Mars_img_LIST)\n",
    "print(featured_image)"
   ]
  },
  {
   "cell_type": "code",
   "execution_count": null,
   "metadata": {},
   "outputs": [],
   "source": [
    "#### MARS Weather"
   ]
  },
  {
   "cell_type": "code",
   "execution_count": null,
   "metadata": {},
   "outputs": [],
   "source": [
    "url_w = 'https://twitter.com/marswxreport?lang=en'"
   ]
  },
  {
   "cell_type": "code",
   "execution_count": null,
   "metadata": {},
   "outputs": [],
   "source": [
    "driver2 = webdriver.Chrome()\n",
    "driver2.get(url_w)"
   ]
  },
  {
   "cell_type": "code",
   "execution_count": null,
   "metadata": {},
   "outputs": [],
   "source": [
    "find_W_tweet = driver2.find_element_by_xpath(\"\"\"//*[@id=\"react-root\"]/div/div/div/main/div/div/div/div/div/div/div/div/div[2]/section/div/div/div/div[1]/div/article/div/div[2]/div[2]/div[2]/span\"\"\")"
   ]
  },
  {
   "cell_type": "code",
   "execution_count": null,
   "metadata": {},
   "outputs": [],
   "source": [
    "Mars_Tweet = find_W_tweet.text"
   ]
  },
  {
   "cell_type": "code",
   "execution_count": null,
   "metadata": {},
   "outputs": [],
   "source": [
    "date_W = Mars_Tweet.split(\" \")[3]"
   ]
  },
  {
   "cell_type": "code",
   "execution_count": null,
   "metadata": {},
   "outputs": [],
   "source": [
    "date_W"
   ]
  },
  {
   "cell_type": "code",
   "execution_count": null,
   "metadata": {},
   "outputs": [],
   "source": [
    "collection_W.estimated_document_count() == 0"
   ]
  },
  {
   "cell_type": "code",
   "execution_count": null,
   "metadata": {},
   "outputs": [],
   "source": [
    "last_entry = collection_W.find()"
   ]
  },
  {
   "cell_type": "code",
   "execution_count": null,
   "metadata": {},
   "outputs": [],
   "source": [
    "collection_W.find().count_documents()"
   ]
  },
  {
   "cell_type": "code",
   "execution_count": null,
   "metadata": {},
   "outputs": [],
   "source": [
    "if 'Mars_Weather' in db.list_collection_names():\n",
    "    collection_W = db.Mars_Weather\n",
    "    if (collection_W.estimated_document_count() != 0) == True:\n",
    "        last_entry = collection_W.find()\n",
    "        if (date_W in list(last_entry[0].values())) == False:\n",
    "            collection_W.insert_one({\"date\":date_W,\"weather\":find_W_tweet})\n",
    "    else:\n",
    "        collection_W.insert_one({\"date\":date_W,\"weather\":find_W_tweet})    \n",
    "else:\n",
    "    collection_W = db[\"Mars_Weather\"]\n",
    "    collection_W.insert_one({\"date\":date_W,\"weather\":find_W_tweet})\n"
   ]
  },
  {
   "cell_type": "code",
   "execution_count": null,
   "metadata": {},
   "outputs": [],
   "source": [
    "### Facts Sessions"
   ]
  },
  {
   "cell_type": "code",
   "execution_count": null,
   "metadata": {},
   "outputs": [],
   "source": [
    "Day_Image = list(db.Mars_Image.find())"
   ]
  },
  {
   "cell_type": "code",
   "execution_count": null,
   "metadata": {},
   "outputs": [],
   "source": [
    "Day_Image"
   ]
  },
  {
   "cell_type": "code",
   "execution_count": null,
   "metadata": {},
   "outputs": [],
   "source": [
    "url_f = 'https://space-facts.com/mars/'"
   ]
  },
  {
   "cell_type": "code",
   "execution_count": null,
   "metadata": {},
   "outputs": [],
   "source": [
    "driver3 = webdriver.Chrome()\n",
    "driver3. get(url_f)"
   ]
  },
  {
   "cell_type": "code",
   "execution_count": null,
   "metadata": {},
   "outputs": [],
   "source": [
    "find_mars_facts = driver3.find_element_by_xpath(\"\"\"//*[@id=\"tablepress-p-mars-no-2\"]\"\"\")"
   ]
  },
  {
   "cell_type": "code",
   "execution_count": null,
   "metadata": {},
   "outputs": [],
   "source": [
    "#for fact in find_mars_facts:\n",
    "table_elements = find_mars_facts.find_elements_by_tag_name(\"tr\")"
   ]
  },
  {
   "cell_type": "code",
   "execution_count": null,
   "metadata": {},
   "outputs": [],
   "source": [
    "for element in table_elements:\n",
    "    mtext = element.text\n",
    "    print(mtext.split(':'))"
   ]
  },
  {
   "cell_type": "code",
   "execution_count": null,
   "metadata": {},
   "outputs": [],
   "source": [
    "soup3 = BeautifulSoup(driver3.page_source, 'html.parser')"
   ]
  },
  {
   "cell_type": "code",
   "execution_count": null,
   "metadata": {},
   "outputs": [],
   "source": [
    "table_holder = soup3.find('table')"
   ]
  },
  {
   "cell_type": "code",
   "execution_count": null,
   "metadata": {},
   "outputs": [],
   "source": [
    "dfs_list = pd.read_html(str(table_holder))"
   ]
  },
  {
   "cell_type": "code",
   "execution_count": null,
   "metadata": {},
   "outputs": [],
   "source": [
    "\n",
    "for each in table_holder.contents:\n",
    "    print(each.text)\n",
    "    #mars_dfs.add(pd.read_html(each))"
   ]
  },
  {
   "cell_type": "code",
   "execution_count": null,
   "metadata": {},
   "outputs": [],
   "source": [
    "mars_dfs = dfs_list[0]"
   ]
  },
  {
   "cell_type": "code",
   "execution_count": null,
   "metadata": {},
   "outputs": [],
   "source": [
    "mars_dfs.head()"
   ]
  },
  {
   "cell_type": "code",
   "execution_count": null,
   "metadata": {},
   "outputs": [],
   "source": [
    "k = mars_dfs.reset_index().T.to_dict().values()\n",
    "collection_D = db[\"Mars_Data\"]"
   ]
  },
  {
   "cell_type": "code",
   "execution_count": null,
   "metadata": {},
   "outputs": [],
   "source": [
    "facts"
   ]
  },
  {
   "cell_type": "code",
   "execution_count": null,
   "metadata": {},
   "outputs": [],
   "source": [
    "facts=[]\n",
    "for fact in (mars_dfs.to_dict('records')):\n",
    "    print(fact[0], fact[1])\n",
    "    dict = {\"fact\":fact[0], \"data\": fact[1]}\n",
    "    facts.append(dict)"
   ]
  },
  {
   "cell_type": "code",
   "execution_count": null,
   "metadata": {},
   "outputs": [],
   "source": [
    "facts"
   ]
  },
  {
   "cell_type": "code",
   "execution_count": null,
   "metadata": {},
   "outputs": [],
   "source": [
    "facts=[]\n",
    "for fact in (mars_dfs.to_dict('records')):\n",
    "    print(fact[0], fact[1])\n",
    "    dict = {\"fact\":fact[0], \"data\": fact[1]}\n",
    "    facts.append(dict)\n",
    "\n",
    "\n",
    "if 'Mars_Data' in db.list_collection_names():\n",
    "    collection_D = db.Mars_Data\n",
    "    if (collection_D.find()) == False:\n",
    "        collection_D.insert_many(facts)\n",
    "else:\n",
    "    collection_D = db[\"Mars_Data\"]\n",
    "    collection_D.insert_many(facts)"
   ]
  },
  {
   "cell_type": "code",
   "execution_count": null,
   "metadata": {},
   "outputs": [],
   "source": [
    "url4 = 'https://astrogeology.usgs.gov/search/results?q=hemisphere+enhanced&k1=target&v1=Mars'"
   ]
  },
  {
   "cell_type": "code",
   "execution_count": null,
   "metadata": {},
   "outputs": [],
   "source": [
    "driver4 = webdriver.Chrome()\n",
    "driver4. get(url4)"
   ]
  },
  {
   "cell_type": "code",
   "execution_count": null,
   "metadata": {},
   "outputs": [],
   "source": [
    "#find_mars_images = driver4.find_elements_by_xpath(\"\"\"//*[@id=\"product-section\"]/div[2]/div[1]/div/a\"\"\")\n",
    "Mars_img_LIST = []\n",
    "for item in driver4.find_elements_by_xpath(\"\"\"//*[@class='itemLink product-item' and contains(h3,'Enhanced')]\"\"\"):\n",
    "    link = item.get_attribute('href')\n",
    "    window_before = driver4.window_handles[0]\n",
    "    driver4.execute_script(\"window.open(arguments[0])\",link)\n",
    "    window_after = driver4.window_handles[-1]\n",
    "    driver4.switch_to.window(window_after)\n",
    "    #Perform some action\n",
    "    \n",
    "    print(driver4.current_url)\n",
    "    print(driver4.title.split('|')[0])\n",
    "    original_image=driver4.find_elements_by_xpath(\"\"\"//*[@id=\"wide-image\"]/div/ul/li[2]/a\"\"\")\n",
    "    link_image = original_image[0].get_attribute('href')\n",
    "    print(link_image)\n",
    "    dict = {'name': driver4.title.split('|')[0],\n",
    "            'page': driver4.current_url,\n",
    "            'img_url':original_image[0].get_attribute('href')}\n",
    "    Mars_img_LIST.append (dict)\n",
    "    #\n",
    "    driver4.switch_to.window(window_before)"
   ]
  },
  {
   "cell_type": "code",
   "execution_count": null,
   "metadata": {},
   "outputs": [],
   "source": [
    "print(Mars_img_LIST)"
   ]
  },
  {
   "cell_type": "code",
   "execution_count": null,
   "metadata": {},
   "outputs": [],
   "source": [
    "##Populating Mongo Collection - Mars_Articles with the list of Dictionaries\n",
    "##Populating Mongo Collection - Mars_Articles with the list of Dictionaries\n",
    "if 'Mars_Hemispheres' in db.list_collection_names():\n",
    "    collection2 = db.Mars_Hemispheres\n",
    "else:\n",
    "    collection2 = db[\"Mars_Hemispheres\"]\n",
    "\n",
    "if collection2.count() == 0:\n",
    "    collection2.insert_many(Mars_img_LIST)"
   ]
  }
 ],
 "metadata": {
  "kernelspec": {
   "display_name": "Python [conda env:PythonData] *",
   "language": "python",
   "name": "conda-env-PythonData-py"
  },
  "language_info": {
   "codemirror_mode": {
    "name": "ipython",
    "version": 3
   },
   "file_extension": ".py",
   "mimetype": "text/x-python",
   "name": "python",
   "nbconvert_exporter": "python",
   "pygments_lexer": "ipython3",
   "version": "3.6.9"
  }
 },
 "nbformat": 4,
 "nbformat_minor": 2
}
